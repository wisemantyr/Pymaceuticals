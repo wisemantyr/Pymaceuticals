{
 "cells": [
  {
   "cell_type": "markdown",
   "metadata": {},
   "source": [
    "## Observations and Insights"
   ]
  },
  {
   "cell_type": "markdown",
   "metadata": {},
   "source": [
    "1. Of the four most promising drug regimens, Ceftamin was the most consistent since it had the smallest range of final tumor sizes.\n",
    "2. While Ramicane and Capomulin had the smallest final tumor sizes, they were also the least consistent regimens since they had the largest range of final tumor sizes amongst the top four regimens.\n",
    "3. Average mouse weight and average tumor volume were closely correlated for the Capomulin regimen."
   ]
  },
  {
   "cell_type": "markdown",
   "metadata": {},
   "source": [
    "## Dependencies and starter code"
   ]
  },
  {
   "cell_type": "code",
   "execution_count": 1,
   "metadata": {},
   "outputs": [
    {
     "data": {
      "text/html": [
       "<div>\n",
       "<style scoped>\n",
       "    .dataframe tbody tr th:only-of-type {\n",
       "        vertical-align: middle;\n",
       "    }\n",
       "\n",
       "    .dataframe tbody tr th {\n",
       "        vertical-align: top;\n",
       "    }\n",
       "\n",
       "    .dataframe thead th {\n",
       "        text-align: right;\n",
       "    }\n",
       "</style>\n",
       "<table border=\"1\" class=\"dataframe\">\n",
       "  <thead>\n",
       "    <tr style=\"text-align: right;\">\n",
       "      <th></th>\n",
       "      <th>Mouse ID</th>\n",
       "      <th>Timepoint</th>\n",
       "      <th>Tumor Volume (mm3)</th>\n",
       "      <th>Metastatic Sites</th>\n",
       "      <th>Drug Regimen</th>\n",
       "      <th>Sex</th>\n",
       "      <th>Age_months</th>\n",
       "      <th>Weight (g)</th>\n",
       "    </tr>\n",
       "  </thead>\n",
       "  <tbody>\n",
       "    <tr>\n",
       "      <th>0</th>\n",
       "      <td>b128</td>\n",
       "      <td>0</td>\n",
       "      <td>45.000000</td>\n",
       "      <td>0</td>\n",
       "      <td>Capomulin</td>\n",
       "      <td>Female</td>\n",
       "      <td>9</td>\n",
       "      <td>22</td>\n",
       "    </tr>\n",
       "    <tr>\n",
       "      <th>1</th>\n",
       "      <td>f932</td>\n",
       "      <td>0</td>\n",
       "      <td>45.000000</td>\n",
       "      <td>0</td>\n",
       "      <td>Ketapril</td>\n",
       "      <td>Male</td>\n",
       "      <td>15</td>\n",
       "      <td>29</td>\n",
       "    </tr>\n",
       "    <tr>\n",
       "      <th>2</th>\n",
       "      <td>g107</td>\n",
       "      <td>0</td>\n",
       "      <td>45.000000</td>\n",
       "      <td>0</td>\n",
       "      <td>Ketapril</td>\n",
       "      <td>Female</td>\n",
       "      <td>2</td>\n",
       "      <td>29</td>\n",
       "    </tr>\n",
       "    <tr>\n",
       "      <th>3</th>\n",
       "      <td>a457</td>\n",
       "      <td>0</td>\n",
       "      <td>45.000000</td>\n",
       "      <td>0</td>\n",
       "      <td>Ketapril</td>\n",
       "      <td>Female</td>\n",
       "      <td>11</td>\n",
       "      <td>30</td>\n",
       "    </tr>\n",
       "    <tr>\n",
       "      <th>4</th>\n",
       "      <td>c819</td>\n",
       "      <td>0</td>\n",
       "      <td>45.000000</td>\n",
       "      <td>0</td>\n",
       "      <td>Ketapril</td>\n",
       "      <td>Male</td>\n",
       "      <td>21</td>\n",
       "      <td>25</td>\n",
       "    </tr>\n",
       "    <tr>\n",
       "      <th>...</th>\n",
       "      <td>...</td>\n",
       "      <td>...</td>\n",
       "      <td>...</td>\n",
       "      <td>...</td>\n",
       "      <td>...</td>\n",
       "      <td>...</td>\n",
       "      <td>...</td>\n",
       "      <td>...</td>\n",
       "    </tr>\n",
       "    <tr>\n",
       "      <th>1888</th>\n",
       "      <td>r944</td>\n",
       "      <td>45</td>\n",
       "      <td>41.581521</td>\n",
       "      <td>2</td>\n",
       "      <td>Capomulin</td>\n",
       "      <td>Male</td>\n",
       "      <td>12</td>\n",
       "      <td>25</td>\n",
       "    </tr>\n",
       "    <tr>\n",
       "      <th>1889</th>\n",
       "      <td>u364</td>\n",
       "      <td>45</td>\n",
       "      <td>31.023923</td>\n",
       "      <td>3</td>\n",
       "      <td>Capomulin</td>\n",
       "      <td>Male</td>\n",
       "      <td>18</td>\n",
       "      <td>17</td>\n",
       "    </tr>\n",
       "    <tr>\n",
       "      <th>1890</th>\n",
       "      <td>p438</td>\n",
       "      <td>45</td>\n",
       "      <td>61.433892</td>\n",
       "      <td>1</td>\n",
       "      <td>Ceftamin</td>\n",
       "      <td>Female</td>\n",
       "      <td>11</td>\n",
       "      <td>26</td>\n",
       "    </tr>\n",
       "    <tr>\n",
       "      <th>1891</th>\n",
       "      <td>x773</td>\n",
       "      <td>45</td>\n",
       "      <td>58.634971</td>\n",
       "      <td>4</td>\n",
       "      <td>Placebo</td>\n",
       "      <td>Female</td>\n",
       "      <td>21</td>\n",
       "      <td>30</td>\n",
       "    </tr>\n",
       "    <tr>\n",
       "      <th>1892</th>\n",
       "      <td>b879</td>\n",
       "      <td>45</td>\n",
       "      <td>72.555239</td>\n",
       "      <td>2</td>\n",
       "      <td>Stelasyn</td>\n",
       "      <td>Female</td>\n",
       "      <td>4</td>\n",
       "      <td>26</td>\n",
       "    </tr>\n",
       "  </tbody>\n",
       "</table>\n",
       "<p>1893 rows × 8 columns</p>\n",
       "</div>"
      ],
      "text/plain": [
       "     Mouse ID  Timepoint  Tumor Volume (mm3)  Metastatic Sites Drug Regimen  \\\n",
       "0        b128          0           45.000000                 0    Capomulin   \n",
       "1        f932          0           45.000000                 0     Ketapril   \n",
       "2        g107          0           45.000000                 0     Ketapril   \n",
       "3        a457          0           45.000000                 0     Ketapril   \n",
       "4        c819          0           45.000000                 0     Ketapril   \n",
       "...       ...        ...                 ...               ...          ...   \n",
       "1888     r944         45           41.581521                 2    Capomulin   \n",
       "1889     u364         45           31.023923                 3    Capomulin   \n",
       "1890     p438         45           61.433892                 1     Ceftamin   \n",
       "1891     x773         45           58.634971                 4      Placebo   \n",
       "1892     b879         45           72.555239                 2     Stelasyn   \n",
       "\n",
       "         Sex  Age_months  Weight (g)  \n",
       "0     Female           9          22  \n",
       "1       Male          15          29  \n",
       "2     Female           2          29  \n",
       "3     Female          11          30  \n",
       "4       Male          21          25  \n",
       "...      ...         ...         ...  \n",
       "1888    Male          12          25  \n",
       "1889    Male          18          17  \n",
       "1890  Female          11          26  \n",
       "1891  Female          21          30  \n",
       "1892  Female           4          26  \n",
       "\n",
       "[1893 rows x 8 columns]"
      ]
     },
     "execution_count": 1,
     "metadata": {},
     "output_type": "execute_result"
    }
   ],
   "source": [
    "# Dependencies and Setup\n",
    "import matplotlib.pyplot as plt\n",
    "import pandas as pd\n",
    "import scipy.stats as st\n",
    "import numpy as np\n",
    "\n",
    "# Study data files\n",
    "mouse_metadata = \"data/Mouse_metadata.csv\"\n",
    "study_results = \"data/Study_results.csv\"\n",
    "\n",
    "# Read the mouse data and the study results\n",
    "mouse_metadata = pd.read_csv(mouse_metadata)\n",
    "study_results = pd.read_csv(study_results)\n",
    "\n",
    "# Combine the data into a single dataset\n",
    "merged_df = pd.merge(study_results, mouse_metadata, how=\"left\", on=\"Mouse ID\")\n",
    "merged_df"
   ]
  },
  {
   "cell_type": "markdown",
   "metadata": {},
   "source": [
    "## Summary statistics"
   ]
  },
  {
   "cell_type": "code",
   "execution_count": 2,
   "metadata": {},
   "outputs": [
    {
     "data": {
      "text/plain": [
       "array(['Capomulin', 'Ketapril', 'Naftisol', 'Infubinol', 'Stelasyn',\n",
       "       'Ramicane', 'Propriva', 'Zoniferol', 'Placebo', 'Ceftamin'],\n",
       "      dtype=object)"
      ]
     },
     "execution_count": 2,
     "metadata": {},
     "output_type": "execute_result"
    }
   ],
   "source": [
    "#list of regimens\n",
    "regimens = merged_df[\"Drug Regimen\"].unique()\n",
    "regimens"
   ]
  },
  {
   "cell_type": "code",
   "execution_count": 3,
   "metadata": {},
   "outputs": [
    {
     "data": {
      "text/html": [
       "<div>\n",
       "<style scoped>\n",
       "    .dataframe tbody tr th:only-of-type {\n",
       "        vertical-align: middle;\n",
       "    }\n",
       "\n",
       "    .dataframe tbody tr th {\n",
       "        vertical-align: top;\n",
       "    }\n",
       "\n",
       "    .dataframe thead th {\n",
       "        text-align: right;\n",
       "    }\n",
       "</style>\n",
       "<table border=\"1\" class=\"dataframe\">\n",
       "  <thead>\n",
       "    <tr style=\"text-align: right;\">\n",
       "      <th></th>\n",
       "      <th>Tumor Volume Mean</th>\n",
       "      <th>Tumor Volume Median</th>\n",
       "      <th>Variance</th>\n",
       "      <th>Standard Deviation</th>\n",
       "      <th>Standard Error</th>\n",
       "    </tr>\n",
       "    <tr>\n",
       "      <th>Drug Regimen</th>\n",
       "      <th></th>\n",
       "      <th></th>\n",
       "      <th></th>\n",
       "      <th></th>\n",
       "      <th></th>\n",
       "    </tr>\n",
       "  </thead>\n",
       "  <tbody>\n",
       "    <tr>\n",
       "      <th>Capomulin</th>\n",
       "      <td>40.675741</td>\n",
       "      <td>41.557809</td>\n",
       "      <td>24.839296</td>\n",
       "      <td>4.983904</td>\n",
       "      <td>0.329346</td>\n",
       "    </tr>\n",
       "    <tr>\n",
       "      <th>Ketapril</th>\n",
       "      <td>55.235638</td>\n",
       "      <td>53.698743</td>\n",
       "      <td>68.188930</td>\n",
       "      <td>8.257659</td>\n",
       "      <td>0.603860</td>\n",
       "    </tr>\n",
       "    <tr>\n",
       "      <th>Naftisol</th>\n",
       "      <td>54.331565</td>\n",
       "      <td>52.509285</td>\n",
       "      <td>65.817708</td>\n",
       "      <td>8.112811</td>\n",
       "      <td>0.596466</td>\n",
       "    </tr>\n",
       "    <tr>\n",
       "      <th>Infubinol</th>\n",
       "      <td>52.884795</td>\n",
       "      <td>51.820584</td>\n",
       "      <td>42.886388</td>\n",
       "      <td>6.548770</td>\n",
       "      <td>0.492236</td>\n",
       "    </tr>\n",
       "    <tr>\n",
       "      <th>Stelasyn</th>\n",
       "      <td>54.233149</td>\n",
       "      <td>52.431737</td>\n",
       "      <td>59.122106</td>\n",
       "      <td>7.689090</td>\n",
       "      <td>0.573111</td>\n",
       "    </tr>\n",
       "    <tr>\n",
       "      <th>Ramicane</th>\n",
       "      <td>40.216745</td>\n",
       "      <td>40.673236</td>\n",
       "      <td>23.383692</td>\n",
       "      <td>4.835669</td>\n",
       "      <td>0.320955</td>\n",
       "    </tr>\n",
       "    <tr>\n",
       "      <th>Propriva</th>\n",
       "      <td>52.322552</td>\n",
       "      <td>50.854632</td>\n",
       "      <td>42.088020</td>\n",
       "      <td>6.487528</td>\n",
       "      <td>0.512884</td>\n",
       "    </tr>\n",
       "    <tr>\n",
       "      <th>Zoniferol</th>\n",
       "      <td>53.236507</td>\n",
       "      <td>51.818479</td>\n",
       "      <td>48.266689</td>\n",
       "      <td>6.947423</td>\n",
       "      <td>0.516398</td>\n",
       "    </tr>\n",
       "    <tr>\n",
       "      <th>Placebo</th>\n",
       "      <td>54.033581</td>\n",
       "      <td>52.288934</td>\n",
       "      <td>60.830138</td>\n",
       "      <td>7.799368</td>\n",
       "      <td>0.581331</td>\n",
       "    </tr>\n",
       "    <tr>\n",
       "      <th>Ceftamin</th>\n",
       "      <td>52.591172</td>\n",
       "      <td>51.776157</td>\n",
       "      <td>39.069446</td>\n",
       "      <td>6.250556</td>\n",
       "      <td>0.469821</td>\n",
       "    </tr>\n",
       "  </tbody>\n",
       "</table>\n",
       "</div>"
      ],
      "text/plain": [
       "              Tumor Volume Mean  Tumor Volume Median   Variance  \\\n",
       "Drug Regimen                                                      \n",
       "Capomulin             40.675741            41.557809  24.839296   \n",
       "Ketapril              55.235638            53.698743  68.188930   \n",
       "Naftisol              54.331565            52.509285  65.817708   \n",
       "Infubinol             52.884795            51.820584  42.886388   \n",
       "Stelasyn              54.233149            52.431737  59.122106   \n",
       "Ramicane              40.216745            40.673236  23.383692   \n",
       "Propriva              52.322552            50.854632  42.088020   \n",
       "Zoniferol             53.236507            51.818479  48.266689   \n",
       "Placebo               54.033581            52.288934  60.830138   \n",
       "Ceftamin              52.591172            51.776157  39.069446   \n",
       "\n",
       "              Standard Deviation  Standard Error  \n",
       "Drug Regimen                                      \n",
       "Capomulin               4.983904        0.329346  \n",
       "Ketapril                8.257659        0.603860  \n",
       "Naftisol                8.112811        0.596466  \n",
       "Infubinol               6.548770        0.492236  \n",
       "Stelasyn                7.689090        0.573111  \n",
       "Ramicane                4.835669        0.320955  \n",
       "Propriva                6.487528        0.512884  \n",
       "Zoniferol               6.947423        0.516398  \n",
       "Placebo                 7.799368        0.581331  \n",
       "Ceftamin                6.250556        0.469821  "
      ]
     },
     "execution_count": 3,
     "metadata": {},
     "output_type": "execute_result"
    }
   ],
   "source": [
    "# Generate a summary statistics table of mean, median, variance, standard deviation, and SEM of the tumor volume for each regimen\n",
    "\n",
    "\n",
    "capomulin_df = merged_df.loc[merged_df[\"Drug Regimen\"]== \"Capomulin\"]\n",
    "ketapril_df = merged_df.loc[merged_df[\"Drug Regimen\"]== \"Ketapril\"]\n",
    "naftisol_df = merged_df.loc[merged_df[\"Drug Regimen\"]== \"Naftisol\"]\n",
    "infubinol_df = merged_df.loc[merged_df[\"Drug Regimen\"]== \"Infubinol\"]\n",
    "stelasyn_df = merged_df.loc[merged_df[\"Drug Regimen\"]== \"Stelasyn\"]\n",
    "ramicane_df = merged_df.loc[merged_df[\"Drug Regimen\"]== \"Ramicane\"]\n",
    "propriva_df = merged_df.loc[merged_df[\"Drug Regimen\"]== \"Propriva\"]\n",
    "zoniferol_df = merged_df.loc[merged_df[\"Drug Regimen\"]== \"Zoniferol\"]\n",
    "placebo_df = merged_df.loc[merged_df[\"Drug Regimen\"]== \"Placebo\"]\n",
    "ceftamin_df = merged_df.loc[merged_df[\"Drug Regimen\"]== \"Ceftamin\"]\n",
    "\n",
    "DrugDFs=[capomulin_df, ketapril_df,naftisol_df,infubinol_df,stelasyn_df,ramicane_df,propriva_df,zoniferol_df,placebo_df,ceftamin_df]\n",
    "\n",
    "TumorMeans = []\n",
    "TumorMedians = []\n",
    "TumorVar = []\n",
    "TumorStanDev = []\n",
    "TumorSEMs = []\n",
    "\n",
    "for df in DrugDFs:\n",
    "    TumorMeans.append(np.mean(df[\"Tumor Volume (mm3)\"]))\n",
    "    TumorMedians.append(np.median(df[\"Tumor Volume (mm3)\"]))  \n",
    "    TumorVar.append(np.var(df[\"Tumor Volume (mm3)\"], ddof=0))\n",
    "    TumorStanDev.append(np.std(df[\"Tumor Volume (mm3)\"], ddof=0))\n",
    "    TumorSEMs.append(st.sem(df[\"Tumor Volume (mm3)\"]))\n",
    "\n",
    "SummaryStatsTable = pd.DataFrame({\"Drug Regimen\": regimens, \n",
    "                                  \"Tumor Volume Mean\": TumorMeans,\n",
    "                                  \"Tumor Volume Median\": TumorMedians,\n",
    "                                  \"Variance\": TumorVar,\n",
    "                                  \"Standard Deviation\": TumorStanDev,\n",
    "                                  \"Standard Error\": TumorSEMs})\n",
    "IndexedSummaryStatsTable = SummaryStatsTable.set_index(\"Drug Regimen\")\n",
    "IndexedSummaryStatsTable"
   ]
  },
  {
   "cell_type": "markdown",
   "metadata": {},
   "source": [
    "## Bar plots"
   ]
  },
  {
   "cell_type": "code",
   "execution_count": 25,
   "metadata": {},
   "outputs": [
    {
     "data": {
      "text/plain": [
       "Text(0, 0.5, 'Data Points')"
      ]
     },
     "execution_count": 25,
     "metadata": {},
     "output_type": "execute_result"
    },
    {
     "data": {
      "image/png": "[encoded data removed]",
      "text/plain": [
       "<Figure size 432x288 with 1 Axes>"
      ]
     },
     "metadata": {
      "needs_background": "light"
     },
     "output_type": "display_data"
    }
   ],
   "source": [
    "# Generate a bar plot showing number of data points for each treatment regimen using pandas\n",
    "\n",
    "IndexedSummaryStatsTable[\"Data Points\"] = [len(data) for data in DrugDFs]\n",
    "\n",
    "IndexedSummaryStatsTable[\"Data Points\"].plot(x=\"Drug Regimen\", y=\"Data Points\", kind=\"bar\",\n",
    "                                      title = \"Number of Data Points per Drug Regimen\", ylim = (0,275),\n",
    "                                        rot = 45, color=\"mediumseagreen\").set_ylabel(\"Data Points\")\n",
    "    "
   ]
  },
  {
   "cell_type": "code",
   "execution_count": 24,
   "metadata": {},
   "outputs": [
    {
     "data": {
      "text/plain": [
       "Text(0, 0.5, 'Data Points')"
      ]
     },
     "execution_count": 24,
     "metadata": {},
     "output_type": "execute_result"
    },
    {
     "data": {
      "image/png": "[encoded data removed]",
      "text/plain": [
       "<Figure size 432x288 with 1 Axes>"
      ]
     },
     "metadata": {
      "needs_background": "light"
     },
     "output_type": "display_data"
    }
   ],
   "source": [
    "# Generate a bar plot showing number of data points for each treatment regimen using pyplot\n",
    "\n",
    "x_axis = SummaryStatsTable[\"Drug Regimen\"]\n",
    "y_axis = IndexedSummaryStatsTable[\"Data Points\"]\n",
    "\n",
    "plt.bar(x_axis, y_axis,width=0.65, color='mediumseagreen', alpha=1, align=\"center\")\n",
    "plt.xticks(rotation=45)\n",
    "plt.xlim(-1, len(x_axis))\n",
    "plt.ylim(0, 275)\n",
    "plt.title(\"Number of Data Points per Drug Regimen\")\n",
    "plt.xlabel(\"Drug Regimen\")\n",
    "plt.ylabel(\"Data Points\")"
   ]
  },
  {
   "cell_type": "markdown",
   "metadata": {},
   "source": [
    "## Pie plots"
   ]
  },
  {
   "cell_type": "code",
   "execution_count": 20,
   "metadata": {},
   "outputs": [
    {
     "data": {
      "text/plain": [
       "<matplotlib.axes._subplots.AxesSubplot at 0x17b3d2bde48>"
      ]
     },
     "execution_count": 20,
     "metadata": {},
     "output_type": "execute_result"
    },
    {
     "data": {
      "image/png": "[encoded data removed]",
      "text/plain": [
       "<Figure size 432x288 with 1 Axes>"
      ]
     },
     "metadata": {},
     "output_type": "display_data"
    }
   ],
   "source": [
    "# Generate a pie plot showing the distribution of female versus male mice using pandas\n",
    "SexDistribution = merged_df[\"Sex\"].value_counts()\n",
    "Pie = SexDistribution.plot.pie(title=\"Male vs. Female Mice\", colors = [\"lightsteelblue\",\"darkslateblue\"])\n",
    "Pie"
   ]
  },
  {
   "cell_type": "code",
   "execution_count": 21,
   "metadata": {},
   "outputs": [
    {
     "data": {
      "image/png": "[encoded data removed]",
      "text/plain": [
       "<Figure size 432x288 with 1 Axes>"
      ]
     },
     "metadata": {},
     "output_type": "display_data"
    }
   ],
   "source": [
    "# Generate a pie plot showing the distribution of female versus male mice using pyplot\n",
    "\n",
    "\n",
    "plt.pie(SexDistribution, labels = [\"Male\", \"Female\"],colors = [\"lightsteelblue\",\"darkslateblue\"])\n",
    "plt.title(\"Male Vs. Female Mice\")\n",
    "plt.show()"
   ]
  },
  {
   "cell_type": "markdown",
   "metadata": {},
   "source": [
    "## Quartiles, outliers and boxplots"
   ]
  },
  {
   "cell_type": "code",
   "execution_count": 8,
   "metadata": {},
   "outputs": [
    {
     "data": {
      "text/html": [
       "<div>\n",
       "<style scoped>\n",
       "    .dataframe tbody tr th:only-of-type {\n",
       "        vertical-align: middle;\n",
       "    }\n",
       "\n",
       "    .dataframe tbody tr th {\n",
       "        vertical-align: top;\n",
       "    }\n",
       "\n",
       "    .dataframe thead th {\n",
       "        text-align: right;\n",
       "    }\n",
       "</style>\n",
       "<table border=\"1\" class=\"dataframe\">\n",
       "  <thead>\n",
       "    <tr style=\"text-align: right;\">\n",
       "      <th></th>\n",
       "      <th>Tumor Volume (mm3)</th>\n",
       "      <th>Metastatic Sites</th>\n",
       "      <th>Age_months</th>\n",
       "      <th>Weight (g)</th>\n",
       "    </tr>\n",
       "    <tr>\n",
       "      <th>Drug Regimen</th>\n",
       "      <th></th>\n",
       "      <th></th>\n",
       "      <th></th>\n",
       "      <th></th>\n",
       "    </tr>\n",
       "  </thead>\n",
       "  <tbody>\n",
       "    <tr>\n",
       "      <th>Ramicane</th>\n",
       "      <td>34.955595</td>\n",
       "      <td>1.250000</td>\n",
       "      <td>10.050000</td>\n",
       "      <td>19.300000</td>\n",
       "    </tr>\n",
       "    <tr>\n",
       "      <th>Capomulin</th>\n",
       "      <td>36.236114</td>\n",
       "      <td>1.476190</td>\n",
       "      <td>12.809524</td>\n",
       "      <td>19.857143</td>\n",
       "    </tr>\n",
       "    <tr>\n",
       "      <th>Ceftamin</th>\n",
       "      <td>64.132421</td>\n",
       "      <td>2.692308</td>\n",
       "      <td>13.538462</td>\n",
       "      <td>27.615385</td>\n",
       "    </tr>\n",
       "    <tr>\n",
       "      <th>Infubinol</th>\n",
       "      <td>65.755562</td>\n",
       "      <td>2.111111</td>\n",
       "      <td>18.555556</td>\n",
       "      <td>26.666667</td>\n",
       "    </tr>\n",
       "    <tr>\n",
       "      <th>Zoniferol</th>\n",
       "      <td>65.960888</td>\n",
       "      <td>3.071429</td>\n",
       "      <td>13.071429</td>\n",
       "      <td>27.571429</td>\n",
       "    </tr>\n",
       "    <tr>\n",
       "      <th>Propriva</th>\n",
       "      <td>66.258529</td>\n",
       "      <td>2.571429</td>\n",
       "      <td>12.142857</td>\n",
       "      <td>27.142857</td>\n",
       "    </tr>\n",
       "    <tr>\n",
       "      <th>Placebo</th>\n",
       "      <td>68.084082</td>\n",
       "      <td>3.272727</td>\n",
       "      <td>11.818182</td>\n",
       "      <td>27.727273</td>\n",
       "    </tr>\n",
       "    <tr>\n",
       "      <th>Stelasyn</th>\n",
       "      <td>68.438310</td>\n",
       "      <td>1.727273</td>\n",
       "      <td>12.727273</td>\n",
       "      <td>27.545455</td>\n",
       "    </tr>\n",
       "    <tr>\n",
       "      <th>Naftisol</th>\n",
       "      <td>69.265506</td>\n",
       "      <td>2.538462</td>\n",
       "      <td>12.230769</td>\n",
       "      <td>27.153846</td>\n",
       "    </tr>\n",
       "    <tr>\n",
       "      <th>Ketapril</th>\n",
       "      <td>70.662958</td>\n",
       "      <td>3.363636</td>\n",
       "      <td>16.272727</td>\n",
       "      <td>27.727273</td>\n",
       "    </tr>\n",
       "  </tbody>\n",
       "</table>\n",
       "</div>"
      ],
      "text/plain": [
       "              Tumor Volume (mm3)  Metastatic Sites  Age_months  Weight (g)\n",
       "Drug Regimen                                                              \n",
       "Ramicane               34.955595          1.250000   10.050000   19.300000\n",
       "Capomulin              36.236114          1.476190   12.809524   19.857143\n",
       "Ceftamin               64.132421          2.692308   13.538462   27.615385\n",
       "Infubinol              65.755562          2.111111   18.555556   26.666667\n",
       "Zoniferol              65.960888          3.071429   13.071429   27.571429\n",
       "Propriva               66.258529          2.571429   12.142857   27.142857\n",
       "Placebo                68.084082          3.272727   11.818182   27.727273\n",
       "Stelasyn               68.438310          1.727273   12.727273   27.545455\n",
       "Naftisol               69.265506          2.538462   12.230769   27.153846\n",
       "Ketapril               70.662958          3.363636   16.272727   27.727273"
      ]
     },
     "execution_count": 8,
     "metadata": {},
     "output_type": "execute_result"
    }
   ],
   "source": [
    "# Calculate the final tumor volume of each mouse across four of the most promising treatment regimens. \n",
    "\n",
    "#four most promising treatments\n",
    "average_tumors_by_time=merged_df.groupby([\"Timepoint\", \"Drug Regimen\"]).mean()\n",
    "final_tumor_average = average_tumors_by_time.loc[45]\n",
    "final_tumor_average = final_tumor_average.sort_values(by=[\"Tumor Volume (mm3)\"])\n",
    "final_tumor_average"
   ]
  },
  {
   "cell_type": "code",
   "execution_count": 9,
   "metadata": {},
   "outputs": [
    {
     "data": {
      "text/html": [
       "<div>\n",
       "<style scoped>\n",
       "    .dataframe tbody tr th:only-of-type {\n",
       "        vertical-align: middle;\n",
       "    }\n",
       "\n",
       "    .dataframe tbody tr th {\n",
       "        vertical-align: top;\n",
       "    }\n",
       "\n",
       "    .dataframe thead th {\n",
       "        text-align: right;\n",
       "    }\n",
       "</style>\n",
       "<table border=\"1\" class=\"dataframe\">\n",
       "  <thead>\n",
       "    <tr style=\"text-align: right;\">\n",
       "      <th></th>\n",
       "      <th></th>\n",
       "      <th>Tumor Volume (mm3)</th>\n",
       "    </tr>\n",
       "    <tr>\n",
       "      <th>Drug Regimen</th>\n",
       "      <th>Mouse ID</th>\n",
       "      <th></th>\n",
       "    </tr>\n",
       "  </thead>\n",
       "  <tbody>\n",
       "    <tr>\n",
       "      <th rowspan=\"5\" valign=\"top\">Capomulin</th>\n",
       "      <th>b128</th>\n",
       "      <td>38.982878</td>\n",
       "    </tr>\n",
       "    <tr>\n",
       "      <th>b742</th>\n",
       "      <td>38.939633</td>\n",
       "    </tr>\n",
       "    <tr>\n",
       "      <th>g288</th>\n",
       "      <td>37.074024</td>\n",
       "    </tr>\n",
       "    <tr>\n",
       "      <th>g316</th>\n",
       "      <td>40.159220</td>\n",
       "    </tr>\n",
       "    <tr>\n",
       "      <th>i557</th>\n",
       "      <td>47.685963</td>\n",
       "    </tr>\n",
       "    <tr>\n",
       "      <th>...</th>\n",
       "      <th>...</th>\n",
       "      <td>...</td>\n",
       "    </tr>\n",
       "    <tr>\n",
       "      <th rowspan=\"5\" valign=\"top\">Ramicane</th>\n",
       "      <th>q597</th>\n",
       "      <td>45.220869</td>\n",
       "    </tr>\n",
       "    <tr>\n",
       "      <th>r811</th>\n",
       "      <td>37.225650</td>\n",
       "    </tr>\n",
       "    <tr>\n",
       "      <th>s508</th>\n",
       "      <td>30.276232</td>\n",
       "    </tr>\n",
       "    <tr>\n",
       "      <th>u196</th>\n",
       "      <td>40.667713</td>\n",
       "    </tr>\n",
       "    <tr>\n",
       "      <th>z578</th>\n",
       "      <td>30.638696</td>\n",
       "    </tr>\n",
       "  </tbody>\n",
       "</table>\n",
       "<p>63 rows × 1 columns</p>\n",
       "</div>"
      ],
      "text/plain": [
       "                       Tumor Volume (mm3)\n",
       "Drug Regimen Mouse ID                    \n",
       "Capomulin    b128               38.982878\n",
       "             b742               38.939633\n",
       "             g288               37.074024\n",
       "             g316               40.159220\n",
       "             i557               47.685963\n",
       "...                                   ...\n",
       "Ramicane     q597               45.220869\n",
       "             r811               37.225650\n",
       "             s508               30.276232\n",
       "             u196               40.667713\n",
       "             z578               30.638696\n",
       "\n",
       "[63 rows x 1 columns]"
      ]
     },
     "execution_count": 9,
     "metadata": {},
     "output_type": "execute_result"
    }
   ],
   "source": [
    "#final tumor volumes of promising treatments\n",
    "\n",
    "tumors_by_time=merged_df.groupby([\"Timepoint\", \"Drug Regimen\", \"Mouse ID\"]).sum()\n",
    "final_tumors = tumors_by_time.loc[45]\n",
    "promising_final_tumors = final_tumors.loc[[\"Ramicane\", \"Capomulin\", \"Ceftamin\", \"Infubinol\"]]\n",
    "promising_final_tumors = promising_final_tumors.drop(columns=[\"Metastatic Sites\", \"Age_months\", \"Weight (g)\"])\n",
    "promising_final_tumors"
   ]
  },
  {
   "cell_type": "code",
   "execution_count": 10,
   "metadata": {},
   "outputs": [
    {
     "data": {
      "text/plain": [
       "{'Ramicane': [], 'Capomulin': [], 'Ceftamin': [], 'Infubinol': []}"
      ]
     },
     "execution_count": 10,
     "metadata": {},
     "output_type": "execute_result"
    }
   ],
   "source": [
    "#Calculate the IQR and quantitatively determine if there are any potential outliers.\n",
    "'''\n",
    "ramicane_mice = promising_final_tumors.loc[\"Ramicane\"]\n",
    "capomulin_mice = promising_final_tumors.loc[\"Capomulin\"]\n",
    "ceftamin_mice = promising_final_tumors.loc[\"Ceftamin\"]\n",
    "infubinol_mice = promising_final_tumors.loc[\"Infubinol\"]\n",
    "'''\n",
    "\n",
    "final_ramicane_tumors = ramicane_df.groupby([\"Mouse ID\"])[\"Tumor Volume (mm3)\"].last()\n",
    "final_capomulin_tumors = capomulin_df.groupby([\"Mouse ID\"])[\"Tumor Volume (mm3)\"].last()\n",
    "final_ceftamin_tumors = ceftamin_df.groupby([\"Mouse ID\"])[\"Tumor Volume (mm3)\"].last()\n",
    "final_infubinol_tumors = infubinol_df.groupby([\"Mouse ID\"])[\"Tumor Volume (mm3)\"].last()\n",
    "\n",
    "#quartiles\n",
    "ramicane_q = final_ramicane_tumors.quantile([.25,.5,.75])\n",
    "capomulin_q = final_capomulin_tumors.quantile([.25,.5,.75])\n",
    "ceftamin_q = final_ceftamin_tumors.quantile([.25,.5,.75])\n",
    "infubinol_q = final_infubinol_tumors.quantile([.25,.5,.75])\n",
    "#lower qs\n",
    "ramicane_lower = ramicane_q[.25]\n",
    "capomulin_lower = capomulin_q[.25]\n",
    "ceftamin_lower = ceftamin_q[.25]\n",
    "infubinol_lower = infubinol_q[.25]\n",
    "#upper qs\n",
    "ramicane_upper = ramicane_q[.75]\n",
    "capomulin_upper = capomulin_q[.75]\n",
    "ceftamin_upper = ceftamin_q[.75]\n",
    "infubinol_upper = infubinol_q[.75]\n",
    "#iqrs\n",
    "ramicane_iqr = ramicane_upper - ramicane_lower\n",
    "capomulin_iqr = capomulin_upper - capomulin_lower\n",
    "ceftamin_iqr = ceftamin_upper - ceftamin_lower\n",
    "infubinol_iqr = infubinol_upper - infubinol_lower\n",
    "#lower bounds\n",
    "ramicane_low_bound = ramicane_lower - (1.5*ramicane_iqr)\n",
    "capomulin_low_bound = capomulin_lower - (1.5*capomulin_iqr)\n",
    "ceftamin_low_bound = ceftamin_lower - (1.5*ceftamin_iqr)\n",
    "infubinol_low_bound = infubinol_lower - (1.5*infubinol_iqr)\n",
    "#upper bounds\n",
    "ramicane_up_bound = ramicane_upper + (1.5*ramicane_iqr)\n",
    "capomulin_up_bound = capomulin_upper + (1.5*capomulin_iqr)\n",
    "ceftamin_up_bound = ceftamin_upper + (1.5*ceftamin_iqr)\n",
    "infubinol_up_bound = infubinol_upper + (1.5*infubinol_iqr)\n",
    "\n",
    "#outliers\n",
    "ramicane_outliers= [t for t in final_ramicane_tumors if [(final_ramicane_tumors < ramicane_low_bound) | (final_ramicane_tumors > ramicane_up_bound)] == True]\n",
    "capomulin_outliers= [t for t in final_capomulin_tumors if [(final_capomulin_tumors < capomulin_low_bound) | (final_capomulin_tumors > capomulin_up_bound)] == True]\n",
    "ceftamin_outliers= [t for t in final_ceftamin_tumors if [(final_ceftamin_tumors < ceftamin_low_bound) | (final_ceftamin_tumors > ceftamin_up_bound)] == True]\n",
    "infubinol_outliers= [t for t in final_infubinol_tumors if [(final_infubinol_tumors < infubinol_low_bound) | (final_infubinol_tumors > infubinol_up_bound)] == True]\n",
    "\n",
    "outliers = {\"Ramicane\": ramicane_outliers, \n",
    "            \"Capomulin\": capomulin_outliers, \n",
    "            \"Ceftamin\": ceftamin_outliers, \n",
    "            \"Infubinol\": infubinol_outliers}\n",
    "outliers"
   ]
  },
  {
   "cell_type": "code",
   "execution_count": 11,
   "metadata": {},
   "outputs": [
    {
     "data": {
      "image/png": "[encoded data removed]",
      "text/plain": [
       "<Figure size 432x288 with 1 Axes>"
      ]
     },
     "metadata": {
      "needs_background": "light"
     },
     "output_type": "display_data"
    }
   ],
   "source": [
    "# Generate a box plot of the final tumor volume of each mouse across four regimens of interest\n",
    "\n",
    "data = [final_ramicane_tumors, final_capomulin_tumors, final_ceftamin_tumors, final_infubinol_tumors]\n",
    "\n",
    "fig1, ax = plt.subplots()\n",
    "\n",
    "ax.boxplot(data)\n",
    "\n",
    "ax.set_title(\"Final Mouse Tumor Volumes by Drug Regimen\", fontsize = 13)\n",
    "ax.set_ylabel(\"Tumor Volume (mm3)\")\n",
    "ax.set_xlabel(\"Drug Regimen\")\n",
    "ax.set_xticklabels([\"Ramicane\", \"Capomulin\", \"Ceftamin\", \"Infubinol\"])\n",
    "plt.show()"
   ]
  },
  {
   "cell_type": "markdown",
   "metadata": {},
   "source": [
    "## Line and scatter plots"
   ]
  },
  {
   "cell_type": "code",
   "execution_count": 12,
   "metadata": {},
   "outputs": [
    {
     "data": {
      "image/png": "[encoded data removed]",
      "text/plain": [
       "<Figure size 432x288 with 1 Axes>"
      ]
     },
     "metadata": {
      "needs_background": "light"
     },
     "output_type": "display_data"
    }
   ],
   "source": [
    "# Generate a line plot of time point versus tumor volume for a mouse treated with Capomulin\n",
    "mouse_over_time = merged_df.groupby([\"Drug Regimen\",\"Mouse ID\",\"Timepoint\"]).sum()\n",
    "mouse_over_time = mouse_over_time.loc[\"Capomulin\"]\n",
    "mouse_over_time = mouse_over_time.loc[\"y793\"]\n",
    "mouse_over_time = mouse_over_time.reset_index()\n",
    "x = mouse_over_time[\"Timepoint\"]\n",
    "y = mouse_over_time[\"Tumor Volume (mm3)\"]\n",
    "plt.plot(x, y)\n",
    "\n",
    "plt.title(\"Tumor Volume of Mouse Y793 Over Time\", fontsize = 13)\n",
    "plt.xlabel(\"Timepoints\")\n",
    "plt.ylabel(\"Tumor Volume (mm3)\")\n",
    "plt.show()"
   ]
  },
  {
   "cell_type": "code",
   "execution_count": 13,
   "metadata": {},
   "outputs": [],
   "source": [
    "capomulin_df = capomulin_df.set_index(\"Mouse ID\")"
   ]
  },
  {
   "cell_type": "code",
   "execution_count": 27,
   "metadata": {},
   "outputs": [
    {
     "data": {
      "image/png": "[encoded data removed]",
      "text/plain": [
       "<Figure size 432x288 with 1 Axes>"
      ]
     },
     "metadata": {
      "needs_background": "light"
     },
     "output_type": "display_data"
    }
   ],
   "source": [
    "# Generate a scatter plot of mouse weight versus average tumor volume for the Capomulin regimen\n",
    "\n",
    "capo_mouse_over_time = capomulin_df.groupby([\"Timepoint\"])\n",
    "\n",
    "y_axis = capomulin_df[\"Tumor Volume (mm3)\"]\n",
    "x_axis = capomulin_df[\"Weight (g)\"]\n",
    "plt.scatter(x_axis, y_axis, marker = \"o\", color=\"coral\", edgecolors=\"black\", alpha = .7)\n",
    "plt.title(\"Mouse Weight vs. Average Tumor Volume (Capomulin)\", fontsize = 13)\n",
    "plt.xlabel(\"Weight (g)\")\n",
    "plt.ylabel(\"Tumor Volume (mm3)\")\n",
    "\n",
    "plt.show()"
   ]
  },
  {
   "cell_type": "code",
   "execution_count": 15,
   "metadata": {},
   "outputs": [
    {
     "name": "stdout",
     "output_type": "stream",
     "text": [
      "The correlation coefficient of Tumor Volume and Weight for the above plot is: 0.525699555207717.\n"
     ]
    }
   ],
   "source": [
    "# Calculate the correlation coefficient and linear regression model for mouse weight and average tumor volume for the Capomulin regimen\n",
    "correlation = st.pearsonr(x_axis,y_axis)\n",
    "print(f\"The correlation coefficient of Tumor Volume and Weight for the above plot is: {correlation[0]}.\")"
   ]
  },
  {
   "cell_type": "code",
   "execution_count": 28,
   "metadata": {},
   "outputs": [
    {
     "data": {
      "image/png": "[encoded data removed]",
      "text/plain": [
       "<Figure size 432x288 with 1 Axes>"
      ]
     },
     "metadata": {
      "needs_background": "light"
     },
     "output_type": "display_data"
    }
   ],
   "source": [
    "y_axis = capomulin_df[\"Tumor Volume (mm3)\"]\n",
    "x_axis = capomulin_df[\"Weight (g)\"]\n",
    "plt.scatter(x_axis, y_axis, marker = \"o\", color=\"coral\", edgecolors=\"black\", alpha = .7)\n",
    "plt.title(\"Mouse Weight vs. Average Tumor Volume (Capomulin)\", fontsize = 13)\n",
    "plt.xlabel(\"Weight (g)\")\n",
    "plt.ylabel(\"Tumor Volume (mm3)\")\n",
    "(slope, intercept, rvalue, pvalue, stderr) = st.linregress(x_axis, y_axis)\n",
    "regress_values = x_axis * slope + intercept\n",
    "line_eq = \"y = \" + str(round(slope,2)) + \"x + \" + str(round(intercept,2))\n",
    "plt.plot(x_axis,regress_values,\"black\")\n",
    "plt.annotate(line_eq,(20,30),fontsize=12,color=\"black\")\n",
    "plt.show()"
   ]
  },
  {
   "cell_type": "code",
   "execution_count": null,
   "metadata": {},
   "outputs": [],
   "source": []
  }
 ],
 "metadata": {
  "anaconda-cloud": {},
  "kernelspec": {
   "display_name": "Python 3",
   "language": "python",
   "name": "python3"
  },
  "language_info": {
   "codemirror_mode": {
    "name": "ipython",
    "version": 3
   },
   "file_extension": ".py",
   "mimetype": "text/x-python",
   "name": "python",
   "nbconvert_exporter": "python",
   "pygments_lexer": "ipython3",
   "version": "3.6.10"
  }
 },
 "nbformat": 4,
 "nbformat_minor": 2
}
